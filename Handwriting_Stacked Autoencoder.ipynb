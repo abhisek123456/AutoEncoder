{
 "cells": [
  {
   "cell_type": "markdown",
   "metadata": {},
   "source": [
    "## Loading MNIST"
   ]
  },
  {
   "cell_type": "code",
   "execution_count": 10,
   "metadata": {},
   "outputs": [],
   "source": [
    "from keras.datasets import mnist\n",
    "(x_train,_),(x_test,_)=mnist.load_data()"
   ]
  },
  {
   "cell_type": "markdown",
   "metadata": {},
   "source": [
    "### Checking Dimensions "
   ]
  },
  {
   "cell_type": "code",
   "execution_count": 11,
   "metadata": {},
   "outputs": [
    {
     "name": "stdout",
     "output_type": "stream",
     "text": [
      "(60000, 28, 28)\n"
     ]
    }
   ],
   "source": [
    "print(x_train.shape)"
   ]
  },
  {
   "cell_type": "markdown",
   "metadata": {},
   "source": [
    "### Image Pre-processing "
   ]
  },
  {
   "cell_type": "code",
   "execution_count": 12,
   "metadata": {},
   "outputs": [
    {
     "name": "stdout",
     "output_type": "stream",
     "text": [
      "X_train (60000, 784)\n",
      "X_test (10000, 784)\n"
     ]
    }
   ],
   "source": [
    "def pre_process(X):\n",
    "    X = X/255.0\n",
    "    X = X.reshape((len(X), 784))\n",
    "    return X\n",
    "\n",
    "x_train  =  pre_process(x_train)\n",
    "x_test  =  pre_process(x_test)\n",
    "\n",
    "print(\"X_train\", x_train.shape)\n",
    "print(\"X_test\", x_test.shape)"
   ]
  },
  {
   "cell_type": "markdown",
   "metadata": {},
   "source": [
    "### Visualized the training images  "
   ]
  },
  {
   "cell_type": "code",
   "execution_count": 13,
   "metadata": {},
   "outputs": [],
   "source": [
    "import matplotlib.pyplot as plt\n",
    "def show_data(X, n=10, height=28, width=28, title=\"\"):\n",
    "    plt.figure(figsize=(20, 5))\n",
    "    for i in range(n):\n",
    "        ax = plt.subplot(2,n,i+1)\n",
    "        plt.imshow(X[i].reshape((height,width)))\n",
    "        plt.gray()\n",
    "        ax.get_xaxis().set_visible(False)\n",
    "        ax.get_yaxis().set_visible(False)\n",
    "    plt.suptitle(title, fontsize = 20)"
   ]
  },
  {
   "cell_type": "code",
   "execution_count": 14,
   "metadata": {},
   "outputs": [
    {
     "data": {
      "image/png": "[encoded data removed]",
      "text/plain": [
       "<Figure size 1440x360 with 10 Axes>"
      ]
     },
     "metadata": {
      "needs_background": "light"
     },
     "output_type": "display_data"
    }
   ],
   "source": [
    "show_data(x_train,title=\"Training images\")"
   ]
  },
  {
   "cell_type": "markdown",
   "metadata": {},
   "source": [
    "### Building the Stacked Autoencoder\n",
    "\n",
    "- Input layer          = 784 neurons\n",
    "- Hidden layer_1       =  256 neurons\n",
    "\n",
    "- Code layer           =   48 neurons\n",
    "- Hidden layer_2       =  256 neurons\n",
    "\n",
    "- Output layer         = 784 neurons"
   ]
  },
  {
   "cell_type": "code",
   "execution_count": 15,
   "metadata": {},
   "outputs": [],
   "source": [
    "from keras.layers import Input, Dense\n",
    "from keras.models import Model"
   ]
  },
  {
   "cell_type": "code",
   "execution_count": 16,
   "metadata": {},
   "outputs": [],
   "source": [
    "# encoder\n",
    "input_layer = Input(shape=(784,), name=\"INPUT\")\n",
    "hidden_layer_1 = Dense(256, activation='relu', name=\"HIDDEN_1\")(input_layer)\n",
    "\n",
    "\n",
    "# code\n",
    "code_layer = Dense(100, activation='relu', name=\"CODE\")(hidden_layer_1)\n",
    "\n",
    "# decoder\n",
    "\n",
    "hidden_layer_2 = Dense(256, activation='relu', name=\"HIDDEN_4\")(code_layer)\n",
    "output_layer = Dense(784, activation='sigmoid', name=\"OUTPUT\")(hidden_layer_2)"
   ]
  },
  {
   "cell_type": "markdown",
   "metadata": {},
   "source": [
    "### Compiling the layers "
   ]
  },
  {
   "cell_type": "code",
   "execution_count": 17,
   "metadata": {},
   "outputs": [
    {
     "name": "stdout",
     "output_type": "stream",
     "text": [
      "Model: \"model_1\"\n",
      "_________________________________________________________________\n",
      "Layer (type)                 Output Shape              Param #   \n",
      "=================================================================\n",
      "INPUT (InputLayer)           [(None, 784)]             0         \n",
      "_________________________________________________________________\n",
      "HIDDEN_1 (Dense)             (None, 256)               200960    \n",
      "_________________________________________________________________\n",
      "CODE (Dense)                 (None, 100)               25700     \n",
      "_________________________________________________________________\n",
      "HIDDEN_4 (Dense)             (None, 256)               25856     \n",
      "_________________________________________________________________\n",
      "OUTPUT (Dense)               (None, 784)               201488    \n",
      "=================================================================\n",
      "Total params: 454,004\n",
      "Trainable params: 454,004\n",
      "Non-trainable params: 0\n",
      "_________________________________________________________________\n"
     ]
    }
   ],
   "source": [
    "stacked_autoencoder=Model(input_layer, output_layer)\n",
    "stacked_autoencoder.compile(optimizer=\"Adam\",loss=\"binary_crossentropy\")\n",
    "stacked_autoencoder.summary()"
   ]
  },
  {
   "cell_type": "markdown",
   "metadata": {},
   "source": [
    "### Fit into the neural network"
   ]
  },
  {
   "cell_type": "code",
   "execution_count": 18,
   "metadata": {},
   "outputs": [
    {
     "name": "stdout",
     "output_type": "stream",
     "text": [
      "Epoch 1/100\n",
      "235/235 [==============================] - 8s 31ms/step - loss: 0.2913 - val_loss: 0.1149\n",
      "Epoch 2/100\n",
      "235/235 [==============================] - 7s 28ms/step - loss: 0.1096 - val_loss: 0.0946\n",
      "Epoch 3/100\n",
      "235/235 [==============================] - 7s 28ms/step - loss: 0.0938 - val_loss: 0.0871\n",
      "Epoch 4/100\n",
      "235/235 [==============================] - 7s 30ms/step - loss: 0.0870 - val_loss: 0.0828\n",
      "Epoch 5/100\n",
      "235/235 [==============================] - 7s 29ms/step - loss: 0.0834 - val_loss: 0.0805\n",
      "Epoch 6/100\n",
      "235/235 [==============================] - 7s 29ms/step - loss: 0.0805 - val_loss: 0.0781\n",
      "Epoch 7/100\n",
      "235/235 [==============================] - 7s 29ms/step - loss: 0.0786 - val_loss: 0.0769\n",
      "Epoch 8/100\n",
      "235/235 [==============================] - 6s 27ms/step - loss: 0.0773 - val_loss: 0.0758\n",
      "Epoch 9/100\n",
      "235/235 [==============================] - 6s 26ms/step - loss: 0.0761 - val_loss: 0.0749\n",
      "Epoch 10/100\n",
      "235/235 [==============================] - 7s 29ms/step - loss: 0.0753 - val_loss: 0.0742\n",
      "Epoch 11/100\n",
      "235/235 [==============================] - 8s 32ms/step - loss: 0.0744 - val_loss: 0.0733\n",
      "Epoch 12/100\n",
      "235/235 [==============================] - 7s 30ms/step - loss: 0.0737 - val_loss: 0.0728\n",
      "Epoch 13/100\n",
      "235/235 [==============================] - 7s 30ms/step - loss: 0.0731 - val_loss: 0.0723\n",
      "Epoch 14/100\n",
      "235/235 [==============================] - 7s 30ms/step - loss: 0.0726 - val_loss: 0.0718\n",
      "Epoch 15/100\n",
      "235/235 [==============================] - 7s 29ms/step - loss: 0.0722 - val_loss: 0.0713\n",
      "Epoch 16/100\n",
      "235/235 [==============================] - 7s 30ms/step - loss: 0.0718 - val_loss: 0.0712\n",
      "Epoch 17/100\n",
      "235/235 [==============================] - 7s 28ms/step - loss: 0.0714 - val_loss: 0.0709\n",
      "Epoch 18/100\n",
      "235/235 [==============================] - 7s 28ms/step - loss: 0.0710 - val_loss: 0.0705\n",
      "Epoch 19/100\n",
      "235/235 [==============================] - 7s 31ms/step - loss: 0.0710 - val_loss: 0.0704\n",
      "Epoch 20/100\n",
      "235/235 [==============================] - 7s 30ms/step - loss: 0.0704 - val_loss: 0.0700\n",
      "Epoch 21/100\n",
      "235/235 [==============================] - 7s 28ms/step - loss: 0.0703 - val_loss: 0.0700\n",
      "Epoch 22/100\n",
      "235/235 [==============================] - 7s 29ms/step - loss: 0.0701 - val_loss: 0.0696\n",
      "Epoch 23/100\n",
      "235/235 [==============================] - 8s 32ms/step - loss: 0.0698 - val_loss: 0.0694\n",
      "Epoch 24/100\n",
      "235/235 [==============================] - 6s 26ms/step - loss: 0.0696 - val_loss: 0.0699\n",
      "Epoch 25/100\n",
      "235/235 [==============================] - 6s 26ms/step - loss: 0.0694 - val_loss: 0.0691\n",
      "Epoch 26/100\n",
      "235/235 [==============================] - 6s 25ms/step - loss: 0.0693 - val_loss: 0.0690\n",
      "Epoch 27/100\n",
      "235/235 [==============================] - 6s 25ms/step - loss: 0.0693 - val_loss: 0.0689\n",
      "Epoch 28/100\n",
      "235/235 [==============================] - 6s 25ms/step - loss: 0.0691 - val_loss: 0.0687\n",
      "Epoch 29/100\n",
      "235/235 [==============================] - 6s 27ms/step - loss: 0.0690 - val_loss: 0.0686\n",
      "Epoch 30/100\n",
      "235/235 [==============================] - 7s 28ms/step - loss: 0.0688 - val_loss: 0.0685\n",
      "Epoch 31/100\n",
      "235/235 [==============================] - 6s 26ms/step - loss: 0.0686 - val_loss: 0.0685\n",
      "Epoch 32/100\n",
      "235/235 [==============================] - 6s 26ms/step - loss: 0.0686 - val_loss: 0.0683\n",
      "Epoch 33/100\n",
      "235/235 [==============================] - 7s 28ms/step - loss: 0.0684 - val_loss: 0.0682\n",
      "Epoch 34/100\n",
      "235/235 [==============================] - 6s 26ms/step - loss: 0.0683 - val_loss: 0.0682\n",
      "Epoch 35/100\n",
      "235/235 [==============================] - 6s 26ms/step - loss: 0.0682 - val_loss: 0.0680\n",
      "Epoch 36/100\n",
      "235/235 [==============================] - 6s 26ms/step - loss: 0.0682 - val_loss: 0.0681\n",
      "Epoch 37/100\n",
      "235/235 [==============================] - 6s 27ms/step - loss: 0.0682 - val_loss: 0.0678\n",
      "Epoch 38/100\n",
      "235/235 [==============================] - 6s 27ms/step - loss: 0.0680 - val_loss: 0.0680\n",
      "Epoch 39/100\n",
      "235/235 [==============================] - 6s 27ms/step - loss: 0.0680 - val_loss: 0.0679\n",
      "Epoch 40/100\n",
      "235/235 [==============================] - 6s 25ms/step - loss: 0.0679 - val_loss: 0.0677\n",
      "Epoch 41/100\n",
      "235/235 [==============================] - 6s 25ms/step - loss: 0.0678 - val_loss: 0.0676\n",
      "Epoch 42/100\n",
      "235/235 [==============================] - 6s 27ms/step - loss: 0.0677 - val_loss: 0.0678\n",
      "Epoch 43/100\n",
      "235/235 [==============================] - 6s 27ms/step - loss: 0.0676 - val_loss: 0.0676\n",
      "Epoch 44/100\n",
      "235/235 [==============================] - 6s 27ms/step - loss: 0.0677 - val_loss: 0.0675\n",
      "Epoch 45/100\n",
      "235/235 [==============================] - 6s 26ms/step - loss: 0.0676 - val_loss: 0.0674\n",
      "Epoch 46/100\n",
      "235/235 [==============================] - 6s 26ms/step - loss: 0.0675 - val_loss: 0.0675\n",
      "Epoch 47/100\n",
      "235/235 [==============================] - 6s 27ms/step - loss: 0.0676 - val_loss: 0.0675\n",
      "Epoch 48/100\n",
      "235/235 [==============================] - 6s 27ms/step - loss: 0.0674 - val_loss: 0.0673\n",
      "Epoch 49/100\n",
      "235/235 [==============================] - 6s 26ms/step - loss: 0.0675 - val_loss: 0.0672\n",
      "Epoch 50/100\n",
      "235/235 [==============================] - 6s 26ms/step - loss: 0.0672 - val_loss: 0.0673\n",
      "Epoch 51/100\n",
      "235/235 [==============================] - 6s 26ms/step - loss: 0.0673 - val_loss: 0.0673\n",
      "Epoch 52/100\n",
      "235/235 [==============================] - 7s 29ms/step - loss: 0.0672 - val_loss: 0.0673\n",
      "Epoch 53/100\n",
      "235/235 [==============================] - 7s 32ms/step - loss: 0.0673 - val_loss: 0.0671\n",
      "Epoch 54/100\n",
      "235/235 [==============================] - 7s 32ms/step - loss: 0.0671 - val_loss: 0.0671\n",
      "Epoch 55/100\n",
      "235/235 [==============================] - 6s 27ms/step - loss: 0.0671 - val_loss: 0.0673\n",
      "Epoch 56/100\n",
      "235/235 [==============================] - 6s 27ms/step - loss: 0.0672 - val_loss: 0.0673\n",
      "Epoch 57/100\n",
      "235/235 [==============================] - 6s 26ms/step - loss: 0.0673 - val_loss: 0.0670\n",
      "Epoch 58/100\n",
      "235/235 [==============================] - 6s 27ms/step - loss: 0.0670 - val_loss: 0.0670\n",
      "Epoch 59/100\n",
      "235/235 [==============================] - 6s 26ms/step - loss: 0.0671 - val_loss: 0.0671\n",
      "Epoch 60/100\n",
      "235/235 [==============================] - 6s 25ms/step - loss: 0.0671 - val_loss: 0.0670\n",
      "Epoch 61/100\n",
      "235/235 [==============================] - 6s 26ms/step - loss: 0.0671 - val_loss: 0.0670\n",
      "Epoch 62/100\n",
      "235/235 [==============================] - 7s 28ms/step - loss: 0.0670 - val_loss: 0.0671\n",
      "Epoch 63/100\n",
      "235/235 [==============================] - 6s 27ms/step - loss: 0.0670 - val_loss: 0.0672\n",
      "Epoch 64/100\n",
      "235/235 [==============================] - 6s 26ms/step - loss: 0.0671 - val_loss: 0.0669\n",
      "Epoch 65/100\n",
      "235/235 [==============================] - 6s 27ms/step - loss: 0.0668 - val_loss: 0.0669\n",
      "Epoch 66/100\n",
      "235/235 [==============================] - 6s 27ms/step - loss: 0.0669 - val_loss: 0.0668\n",
      "Epoch 67/100\n",
      "235/235 [==============================] - 6s 27ms/step - loss: 0.0668 - val_loss: 0.0670\n",
      "Epoch 68/100\n",
      "235/235 [==============================] - 6s 27ms/step - loss: 0.0670 - val_loss: 0.0669\n",
      "Epoch 69/100\n",
      "235/235 [==============================] - 6s 27ms/step - loss: 0.0668 - val_loss: 0.0670\n",
      "Epoch 70/100\n",
      "235/235 [==============================] - 6s 26ms/step - loss: 0.0670 - val_loss: 0.0669\n",
      "Epoch 71/100\n",
      "235/235 [==============================] - 6s 25ms/step - loss: 0.0668 - val_loss: 0.0669\n",
      "Epoch 72/100\n",
      "235/235 [==============================] - 6s 26ms/step - loss: 0.0667 - val_loss: 0.0667\n",
      "Epoch 73/100\n",
      "235/235 [==============================] - 6s 26ms/step - loss: 0.0668 - val_loss: 0.0670\n",
      "Epoch 74/100\n",
      "235/235 [==============================] - 6s 25ms/step - loss: 0.0669 - val_loss: 0.0668\n",
      "Epoch 75/100\n",
      "235/235 [==============================] - 6s 25ms/step - loss: 0.0668 - val_loss: 0.0667\n",
      "Epoch 76/100\n",
      "235/235 [==============================] - 6s 26ms/step - loss: 0.0666 - val_loss: 0.0667\n",
      "Epoch 77/100\n",
      "235/235 [==============================] - 6s 26ms/step - loss: 0.0668 - val_loss: 0.0668\n",
      "Epoch 78/100\n",
      "235/235 [==============================] - 6s 26ms/step - loss: 0.0668 - val_loss: 0.0668\n",
      "Epoch 79/100\n",
      "235/235 [==============================] - 6s 27ms/step - loss: 0.0668 - val_loss: 0.0668\n",
      "Epoch 80/100\n"
     ]
    },
    {
     "name": "stdout",
     "output_type": "stream",
     "text": [
      "235/235 [==============================] - 6s 27ms/step - loss: 0.0668 - val_loss: 0.0667\n",
      "Epoch 81/100\n",
      "235/235 [==============================] - 6s 25ms/step - loss: 0.0665 - val_loss: 0.0670\n",
      "Epoch 82/100\n",
      "235/235 [==============================] - 6s 25ms/step - loss: 0.0666 - val_loss: 0.0668\n",
      "Epoch 83/100\n",
      "235/235 [==============================] - 6s 25ms/step - loss: 0.0667 - val_loss: 0.0669\n",
      "Epoch 84/100\n",
      "235/235 [==============================] - 7s 29ms/step - loss: 0.0667 - val_loss: 0.0667\n",
      "Epoch 85/100\n",
      "235/235 [==============================] - 7s 29ms/step - loss: 0.0668 - val_loss: 0.0668\n",
      "Epoch 86/100\n",
      "235/235 [==============================] - 7s 30ms/step - loss: 0.0666 - val_loss: 0.0668\n",
      "Epoch 87/100\n",
      "235/235 [==============================] - 7s 29ms/step - loss: 0.0667 - val_loss: 0.0667\n",
      "Epoch 88/100\n",
      "235/235 [==============================] - 6s 27ms/step - loss: 0.0666 - val_loss: 0.0666\n",
      "Epoch 89/100\n",
      "235/235 [==============================] - 6s 27ms/step - loss: 0.0667 - val_loss: 0.0667\n",
      "Epoch 90/100\n",
      "235/235 [==============================] - 7s 28ms/step - loss: 0.0666 - val_loss: 0.0667\n",
      "Epoch 91/100\n",
      "235/235 [==============================] - 8s 32ms/step - loss: 0.0667 - val_loss: 0.0666\n",
      "Epoch 92/100\n",
      "235/235 [==============================] - 8s 36ms/step - loss: 0.0666 - val_loss: 0.0666\n",
      "Epoch 93/100\n",
      "235/235 [==============================] - 7s 29ms/step - loss: 0.0666 - val_loss: 0.0666\n",
      "Epoch 94/100\n",
      "235/235 [==============================] - 7s 29ms/step - loss: 0.0666 - val_loss: 0.0666\n",
      "Epoch 95/100\n",
      "235/235 [==============================] - 7s 29ms/step - loss: 0.0666 - val_loss: 0.0666\n",
      "Epoch 96/100\n",
      "235/235 [==============================] - 7s 29ms/step - loss: 0.0667 - val_loss: 0.0669\n",
      "Epoch 97/100\n",
      "235/235 [==============================] - 7s 29ms/step - loss: 0.0668 - val_loss: 0.0668\n",
      "Epoch 98/100\n",
      "235/235 [==============================] - 7s 28ms/step - loss: 0.0666 - val_loss: 0.0666\n",
      "Epoch 99/100\n",
      "235/235 [==============================] - 8s 33ms/step - loss: 0.0665 - val_loss: 0.0667\n",
      "Epoch 100/100\n",
      "235/235 [==============================] - 7s 29ms/step - loss: 0.0666 - val_loss: 0.0665\n"
     ]
    },
    {
     "data": {
      "text/plain": [
       "<tensorflow.python.keras.callbacks.History at 0x7fe40df064f0>"
      ]
     },
     "execution_count": 18,
     "metadata": {},
     "output_type": "execute_result"
    }
   ],
   "source": [
    "stacked_autoencoder.fit(x_train, x_train, epochs=100, batch_size=256,shuffle=True,\n",
    "                        validation_data=(x_test, x_test))"
   ]
  },
  {
   "cell_type": "markdown",
   "metadata": {},
   "source": [
    "### Predicting "
   ]
  },
  {
   "cell_type": "code",
   "execution_count": 19,
   "metadata": {},
   "outputs": [],
   "source": [
    "decoded_data = stacked_autoencoder.predict(x_test)"
   ]
  },
  {
   "cell_type": "markdown",
   "metadata": {},
   "source": [
    "### Visualization "
   ]
  },
  {
   "cell_type": "code",
   "execution_count": 20,
   "metadata": {},
   "outputs": [
    {
     "data": {
      "image/png": "[encoded data removed]",
      "text/plain": [
       "<Figure size 1440x360 with 10 Axes>"
      ]
     },
     "metadata": {
      "needs_background": "light"
     },
     "output_type": "display_data"
    },
    {
     "data": {
      "image/png": "[encoded data removed]",
      "text/plain": [
       "<Figure size 1440x360 with 10 Axes>"
      ]
     },
     "metadata": {
      "needs_background": "light"
     },
     "output_type": "display_data"
    }
   ],
   "source": [
    "show_data(x_test, title=\"original data\")\n",
    "show_data(decoded_data, title=\"decoded data\")"
   ]
  },
  {
   "cell_type": "code",
   "execution_count": null,
   "metadata": {},
   "outputs": [],
   "source": []
  }
 ],
 "metadata": {
  "kernelspec": {
   "display_name": "Python 3",
   "language": "python",
   "name": "python3"
  },
  "language_info": {
   "codemirror_mode": {
    "name": "ipython",
    "version": 3
   },
   "file_extension": ".py",
   "mimetype": "text/x-python",
   "name": "python",
   "nbconvert_exporter": "python",
   "pygments_lexer": "ipython3",
   "version": "3.8.5"
  }
 },
 "nbformat": 4,
 "nbformat_minor": 4
}
