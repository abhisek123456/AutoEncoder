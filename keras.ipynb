{
 "cells": [
  {
   "cell_type": "markdown",
   "metadata": {},
   "source": [
    "# Simple Autoencoder"
   ]
  },
  {
   "cell_type": "code",
   "execution_count": 1,
   "metadata": {},
   "outputs": [],
   "source": [
    "import keras\n",
    "from keras import layers\n",
    "\n",
    "# This is the size of our encoded representations\n",
    "encoding_dim = 32  # 32 floats -> compression of factor 24.5, assuming the input is 784 floats\n",
    "\n",
    "# This is our input image\n",
    "input_img = keras.Input(shape=(784,))\n",
    "# \"encoded\" is the encoded representation of the input\n",
    "encoded = layers.Dense(encoding_dim, activation='relu')(input_img)\n",
    "# \"decoded\" is the lossy reconstruction of the input\n",
    "decoded = layers.Dense(784, activation='sigmoid')(encoded)\n",
    "\n",
    "# This model maps an input to its reconstruction\n",
    "autoencoder = keras.Model(input_img, decoded)"
   ]
  },
  {
   "cell_type": "code",
   "execution_count": 2,
   "metadata": {},
   "outputs": [],
   "source": [
    "# This model maps an input to its encoded representation\n",
    "encoder = keras.Model(input_img, encoded)"
   ]
  },
  {
   "cell_type": "code",
   "execution_count": 3,
   "metadata": {},
   "outputs": [],
   "source": [
    "# This is our encoded (32-dimensional) input\n",
    "encoded_input = keras.Input(shape=(encoding_dim,))\n",
    "# Retrieve the last layer of the autoencoder model\n",
    "decoder_layer = autoencoder.layers[-1]\n",
    "# Create the decoder model\n",
    "decoder = keras.Model(encoded_input, decoder_layer(encoded_input))"
   ]
  },
  {
   "cell_type": "code",
   "execution_count": 4,
   "metadata": {},
   "outputs": [],
   "source": [
    "autoencoder.compile(optimizer='adam', loss='binary_crossentropy')"
   ]
  },
  {
   "cell_type": "code",
   "execution_count": 5,
   "metadata": {},
   "outputs": [
    {
     "name": "stdout",
     "output_type": "stream",
     "text": [
      "Downloading data from https://storage.googleapis.com/tensorflow/tf-keras-datasets/mnist.npz\n",
      "11493376/11490434 [==============================] - 8s 1us/step\n"
     ]
    }
   ],
   "source": [
    "from keras.datasets import mnist\n",
    "import numpy as np\n",
    "(x_train, _), (x_test, _) = mnist.load_data()"
   ]
  },
  {
   "cell_type": "code",
   "execution_count": 6,
   "metadata": {},
   "outputs": [
    {
     "name": "stdout",
     "output_type": "stream",
     "text": [
      "(60000, 784)\n",
      "(10000, 784)\n"
     ]
    }
   ],
   "source": [
    "x_train = x_train.astype('float32') / 255.\n",
    "x_test = x_test.astype('float32') / 255.\n",
    "x_train = x_train.reshape((len(x_train), np.prod(x_train.shape[1:])))\n",
    "x_test = x_test.reshape((len(x_test), np.prod(x_test.shape[1:])))\n",
    "print(x_train.shape)\n",
    "print(x_test.shape)"
   ]
  },
  {
   "cell_type": "code",
   "execution_count": 7,
   "metadata": {},
   "outputs": [
    {
     "name": "stdout",
     "output_type": "stream",
     "text": [
      "Epoch 1/50\n",
      "235/235 [==============================] - 4s 13ms/step - loss: 0.3818 - val_loss: 0.1887\n",
      "Epoch 2/50\n",
      "235/235 [==============================] - 2s 10ms/step - loss: 0.1780 - val_loss: 0.1529\n",
      "Epoch 3/50\n",
      "235/235 [==============================] - 3s 11ms/step - loss: 0.1487 - val_loss: 0.1334\n",
      "Epoch 4/50\n",
      "235/235 [==============================] - 3s 11ms/step - loss: 0.1313 - val_loss: 0.1213\n",
      "Epoch 5/50\n",
      "235/235 [==============================] - 2s 10ms/step - loss: 0.1203 - val_loss: 0.1134\n",
      "Epoch 6/50\n",
      "235/235 [==============================] - 2s 10ms/step - loss: 0.1131 - val_loss: 0.1077\n",
      "Epoch 7/50\n",
      "235/235 [==============================] - 3s 11ms/step - loss: 0.1078 - val_loss: 0.1029\n",
      "Epoch 8/50\n",
      "235/235 [==============================] - 2s 11ms/step - loss: 0.1033 - val_loss: 0.0996\n",
      "Epoch 9/50\n",
      "235/235 [==============================] - 2s 10ms/step - loss: 0.1000 - val_loss: 0.0973\n",
      "Epoch 10/50\n",
      "235/235 [==============================] - 2s 10ms/step - loss: 0.0979 - val_loss: 0.0956\n",
      "Epoch 11/50\n",
      "235/235 [==============================] - 2s 10ms/step - loss: 0.0965 - val_loss: 0.0945\n",
      "Epoch 12/50\n",
      "235/235 [==============================] - 2s 10ms/step - loss: 0.0955 - val_loss: 0.0938\n",
      "Epoch 13/50\n",
      "235/235 [==============================] - 2s 11ms/step - loss: 0.0949 - val_loss: 0.0933\n",
      "Epoch 14/50\n",
      "235/235 [==============================] - 2s 11ms/step - loss: 0.0945 - val_loss: 0.0931\n",
      "Epoch 15/50\n",
      "235/235 [==============================] - 2s 10ms/step - loss: 0.0941 - val_loss: 0.0929\n",
      "Epoch 16/50\n",
      "235/235 [==============================] - 2s 11ms/step - loss: 0.0939 - val_loss: 0.0926\n",
      "Epoch 17/50\n",
      "235/235 [==============================] - 3s 11ms/step - loss: 0.0938 - val_loss: 0.0924\n",
      "Epoch 18/50\n",
      "235/235 [==============================] - 2s 10ms/step - loss: 0.0938 - val_loss: 0.0923\n",
      "Epoch 19/50\n",
      "235/235 [==============================] - 2s 10ms/step - loss: 0.0934 - val_loss: 0.0924\n",
      "Epoch 20/50\n",
      "235/235 [==============================] - 3s 11ms/step - loss: 0.0936 - val_loss: 0.0922\n",
      "Epoch 21/50\n",
      "235/235 [==============================] - 2s 10ms/step - loss: 0.0931 - val_loss: 0.0921\n",
      "Epoch 22/50\n",
      "235/235 [==============================] - 2s 10ms/step - loss: 0.0932 - val_loss: 0.0920\n",
      "Epoch 23/50\n",
      "235/235 [==============================] - 3s 11ms/step - loss: 0.0931 - val_loss: 0.0920\n",
      "Epoch 24/50\n",
      "235/235 [==============================] - 2s 10ms/step - loss: 0.0931 - val_loss: 0.0920\n",
      "Epoch 25/50\n",
      "235/235 [==============================] - 2s 10ms/step - loss: 0.0931 - val_loss: 0.0919\n",
      "Epoch 26/50\n",
      "235/235 [==============================] - 2s 10ms/step - loss: 0.0931 - val_loss: 0.0919\n",
      "Epoch 27/50\n",
      "235/235 [==============================] - 3s 11ms/step - loss: 0.0928 - val_loss: 0.0919\n",
      "Epoch 28/50\n",
      "235/235 [==============================] - 2s 10ms/step - loss: 0.0929 - val_loss: 0.0918\n",
      "Epoch 29/50\n",
      "235/235 [==============================] - 2s 10ms/step - loss: 0.0929 - val_loss: 0.0918\n",
      "Epoch 30/50\n",
      "235/235 [==============================] - 2s 10ms/step - loss: 0.0929 - val_loss: 0.0917\n",
      "Epoch 31/50\n",
      "235/235 [==============================] - 2s 10ms/step - loss: 0.0927 - val_loss: 0.0917\n",
      "Epoch 32/50\n",
      "235/235 [==============================] - 2s 11ms/step - loss: 0.0929 - val_loss: 0.0917\n",
      "Epoch 33/50\n",
      "235/235 [==============================] - 2s 10ms/step - loss: 0.0927 - val_loss: 0.0917\n",
      "Epoch 34/50\n",
      "235/235 [==============================] - 2s 10ms/step - loss: 0.0927 - val_loss: 0.0918\n",
      "Epoch 35/50\n",
      "235/235 [==============================] - 2s 10ms/step - loss: 0.0927 - val_loss: 0.0916\n",
      "Epoch 36/50\n",
      "235/235 [==============================] - 3s 11ms/step - loss: 0.0926 - val_loss: 0.0917\n",
      "Epoch 37/50\n",
      "235/235 [==============================] - 2s 10ms/step - loss: 0.0927 - val_loss: 0.0916\n",
      "Epoch 38/50\n",
      "235/235 [==============================] - 2s 10ms/step - loss: 0.0927 - val_loss: 0.0916\n",
      "Epoch 39/50\n",
      "235/235 [==============================] - 2s 10ms/step - loss: 0.0929 - val_loss: 0.0916\n",
      "Epoch 40/50\n",
      "235/235 [==============================] - 2s 11ms/step - loss: 0.0928 - val_loss: 0.0916\n",
      "Epoch 41/50\n",
      "235/235 [==============================] - 2s 10ms/step - loss: 0.0926 - val_loss: 0.0915\n",
      "Epoch 42/50\n",
      "235/235 [==============================] - 2s 10ms/step - loss: 0.0926 - val_loss: 0.0916\n",
      "Epoch 43/50\n",
      "235/235 [==============================] - 2s 10ms/step - loss: 0.0924 - val_loss: 0.0916\n",
      "Epoch 44/50\n",
      "235/235 [==============================] - 2s 10ms/step - loss: 0.0924 - val_loss: 0.0915\n",
      "Epoch 45/50\n",
      "235/235 [==============================] - 2s 10ms/step - loss: 0.0927 - val_loss: 0.0915\n",
      "Epoch 46/50\n",
      "235/235 [==============================] - 2s 10ms/step - loss: 0.0928 - val_loss: 0.0916\n",
      "Epoch 47/50\n",
      "235/235 [==============================] - 2s 10ms/step - loss: 0.0925 - val_loss: 0.0915\n",
      "Epoch 48/50\n",
      "235/235 [==============================] - 2s 10ms/step - loss: 0.0926 - val_loss: 0.0915\n",
      "Epoch 49/50\n",
      "235/235 [==============================] - 2s 10ms/step - loss: 0.0924 - val_loss: 0.0915\n",
      "Epoch 50/50\n",
      "235/235 [==============================] - 2s 10ms/step - loss: 0.0926 - val_loss: 0.0915\n"
     ]
    },
    {
     "data": {
      "text/plain": [
       "<tensorflow.python.keras.callbacks.History at 0x7fe8462dcb20>"
      ]
     },
     "execution_count": 7,
     "metadata": {},
     "output_type": "execute_result"
    }
   ],
   "source": [
    "autoencoder.fit(x_train, x_train,\n",
    "                epochs=50,\n",
    "                batch_size=256,\n",
    "                shuffle=True,\n",
    "                validation_data=(x_test, x_test))"
   ]
  },
  {
   "cell_type": "code",
   "execution_count": 8,
   "metadata": {},
   "outputs": [],
   "source": [
    "# Encode and decode some digits\n",
    "# Note that we take them from the *test* set\n",
    "encoded_imgs = encoder.predict(x_test)\n",
    "decoded_imgs = decoder.predict(encoded_imgs)"
   ]
  },
  {
   "cell_type": "code",
   "execution_count": 9,
   "metadata": {},
   "outputs": [
    {
     "data": {
      "image/png": "[encoded data removed]",
      "text/plain": [
       "<Figure size 1440x288 with 20 Axes>"
      ]
     },
     "metadata": {
      "needs_background": "light"
     },
     "output_type": "display_data"
    }
   ],
   "source": [
    "# Use Matplotlib (don't ask)\n",
    "import matplotlib.pyplot as plt\n",
    "\n",
    "n = 10  # How many digits we will display\n",
    "plt.figure(figsize=(20, 4))\n",
    "for i in range(n):\n",
    "    # Display original\n",
    "    ax = plt.subplot(2, n, i + 1)\n",
    "    plt.imshow(x_test[i].reshape(28, 28))\n",
    "    plt.gray()\n",
    "    ax.get_xaxis().set_visible(False)\n",
    "    ax.get_yaxis().set_visible(False)\n",
    "\n",
    "    # Display reconstruction\n",
    "    ax = plt.subplot(2, n, i + 1 + n)\n",
    "    plt.imshow(decoded_imgs[i].reshape(28, 28))\n",
    "    plt.gray()\n",
    "    ax.get_xaxis().set_visible(False)\n",
    "    ax.get_yaxis().set_visible(False)\n",
    "plt.show()"
   ]
  },
  {
   "cell_type": "markdown",
   "metadata": {},
   "source": [
    "# Stacked Autoencoder"
   ]
  },
  {
   "cell_type": "code",
   "execution_count": 10,
   "metadata": {},
   "outputs": [],
   "source": [
    "input_img = keras.Input(shape=(784,))\n",
    "encoded = layers.Dense(128, activation='relu')(input_img)\n",
    "encoded = layers.Dense(64, activation='relu')(encoded)\n",
    "encoded = layers.Dense(32, activation='relu')(encoded)\n",
    "\n",
    "decoded = layers.Dense(64, activation='relu')(encoded)\n",
    "decoded = layers.Dense(128, activation='relu')(decoded)\n",
    "decoded = layers.Dense(784, activation='sigmoid')(decoded)"
   ]
  },
  {
   "cell_type": "code",
   "execution_count": 11,
   "metadata": {},
   "outputs": [
    {
     "name": "stdout",
     "output_type": "stream",
     "text": [
      "Epoch 1/100\n",
      "235/235 [==============================] - 5s 20ms/step - loss: 0.3361 - val_loss: 0.1681\n",
      "Epoch 2/100\n",
      "235/235 [==============================] - 4s 19ms/step - loss: 0.1601 - val_loss: 0.1377\n",
      "Epoch 3/100\n",
      "235/235 [==============================] - 4s 19ms/step - loss: 0.1357 - val_loss: 0.1249\n",
      "Epoch 4/100\n",
      "235/235 [==============================] - 4s 19ms/step - loss: 0.1244 - val_loss: 0.1173\n",
      "Epoch 5/100\n",
      "235/235 [==============================] - 4s 19ms/step - loss: 0.1171 - val_loss: 0.1123\n",
      "Epoch 6/100\n",
      "235/235 [==============================] - 4s 19ms/step - loss: 0.1125 - val_loss: 0.1086\n",
      "Epoch 7/100\n",
      "235/235 [==============================] - 5s 23ms/step - loss: 0.1093 - val_loss: 0.1061\n",
      "Epoch 8/100\n",
      "235/235 [==============================] - 4s 19ms/step - loss: 0.1065 - val_loss: 0.1038\n",
      "Epoch 9/100\n",
      "235/235 [==============================] - 4s 19ms/step - loss: 0.1051 - val_loss: 0.1024\n",
      "Epoch 10/100\n",
      "235/235 [==============================] - 4s 18ms/step - loss: 0.1033 - val_loss: 0.1009\n",
      "Epoch 11/100\n",
      "235/235 [==============================] - 4s 18ms/step - loss: 0.1015 - val_loss: 0.0998\n",
      "Epoch 12/100\n",
      "235/235 [==============================] - 4s 17ms/step - loss: 0.1005 - val_loss: 0.0985\n",
      "Epoch 13/100\n",
      "235/235 [==============================] - 4s 17ms/step - loss: 0.0994 - val_loss: 0.0973\n",
      "Epoch 14/100\n",
      "235/235 [==============================] - 4s 17ms/step - loss: 0.0981 - val_loss: 0.0965\n",
      "Epoch 15/100\n",
      "235/235 [==============================] - 4s 17ms/step - loss: 0.0969 - val_loss: 0.0952\n",
      "Epoch 16/100\n",
      "235/235 [==============================] - 4s 17ms/step - loss: 0.0957 - val_loss: 0.0944\n",
      "Epoch 17/100\n",
      "235/235 [==============================] - 4s 17ms/step - loss: 0.0949 - val_loss: 0.0934\n",
      "Epoch 18/100\n",
      "235/235 [==============================] - 4s 17ms/step - loss: 0.0940 - val_loss: 0.0928\n",
      "Epoch 19/100\n",
      "235/235 [==============================] - 4s 17ms/step - loss: 0.0932 - val_loss: 0.0919\n",
      "Epoch 20/100\n",
      "235/235 [==============================] - 4s 17ms/step - loss: 0.0923 - val_loss: 0.0912\n",
      "Epoch 21/100\n",
      "235/235 [==============================] - 4s 17ms/step - loss: 0.0919 - val_loss: 0.0908\n",
      "Epoch 22/100\n",
      "235/235 [==============================] - 4s 17ms/step - loss: 0.0910 - val_loss: 0.0899\n",
      "Epoch 23/100\n",
      "235/235 [==============================] - 4s 17ms/step - loss: 0.0904 - val_loss: 0.0894\n",
      "Epoch 24/100\n",
      "235/235 [==============================] - 4s 17ms/step - loss: 0.0900 - val_loss: 0.0889\n",
      "Epoch 25/100\n",
      "235/235 [==============================] - 4s 17ms/step - loss: 0.0897 - val_loss: 0.0887\n",
      "Epoch 26/100\n",
      "235/235 [==============================] - 4s 17ms/step - loss: 0.0893 - val_loss: 0.0887\n",
      "Epoch 27/100\n",
      "235/235 [==============================] - 4s 17ms/step - loss: 0.0890 - val_loss: 0.0880\n",
      "Epoch 28/100\n",
      "235/235 [==============================] - 4s 17ms/step - loss: 0.0888 - val_loss: 0.0879\n",
      "Epoch 29/100\n",
      "235/235 [==============================] - 4s 17ms/step - loss: 0.0887 - val_loss: 0.0877\n",
      "Epoch 30/100\n",
      "235/235 [==============================] - 4s 17ms/step - loss: 0.0882 - val_loss: 0.0873\n",
      "Epoch 31/100\n",
      "235/235 [==============================] - 4s 17ms/step - loss: 0.0878 - val_loss: 0.0872\n",
      "Epoch 32/100\n",
      "235/235 [==============================] - 4s 17ms/step - loss: 0.0879 - val_loss: 0.0871\n",
      "Epoch 33/100\n",
      "235/235 [==============================] - 4s 17ms/step - loss: 0.0877 - val_loss: 0.0870\n",
      "Epoch 34/100\n",
      "235/235 [==============================] - 4s 17ms/step - loss: 0.0873 - val_loss: 0.0867\n",
      "Epoch 35/100\n",
      "235/235 [==============================] - 4s 17ms/step - loss: 0.0874 - val_loss: 0.0865\n",
      "Epoch 36/100\n",
      "235/235 [==============================] - 4s 17ms/step - loss: 0.0870 - val_loss: 0.0863\n",
      "Epoch 37/100\n",
      "235/235 [==============================] - 4s 17ms/step - loss: 0.0868 - val_loss: 0.0865\n",
      "Epoch 38/100\n",
      "235/235 [==============================] - 4s 17ms/step - loss: 0.0867 - val_loss: 0.0861\n",
      "Epoch 39/100\n",
      "235/235 [==============================] - 4s 17ms/step - loss: 0.0866 - val_loss: 0.0859\n",
      "Epoch 40/100\n",
      "235/235 [==============================] - 4s 17ms/step - loss: 0.0865 - val_loss: 0.0861\n",
      "Epoch 41/100\n",
      "235/235 [==============================] - 4s 17ms/step - loss: 0.0864 - val_loss: 0.0857\n",
      "Epoch 42/100\n",
      "235/235 [==============================] - 4s 17ms/step - loss: 0.0862 - val_loss: 0.0856\n",
      "Epoch 43/100\n",
      "235/235 [==============================] - 4s 17ms/step - loss: 0.0860 - val_loss: 0.0856\n",
      "Epoch 44/100\n",
      "235/235 [==============================] - 4s 17ms/step - loss: 0.0860 - val_loss: 0.0854\n",
      "Epoch 45/100\n",
      "235/235 [==============================] - 4s 17ms/step - loss: 0.0857 - val_loss: 0.0853\n",
      "Epoch 46/100\n",
      "235/235 [==============================] - 4s 17ms/step - loss: 0.0858 - val_loss: 0.0852\n",
      "Epoch 47/100\n",
      "235/235 [==============================] - 4s 17ms/step - loss: 0.0856 - val_loss: 0.0856\n",
      "Epoch 48/100\n",
      "235/235 [==============================] - 4s 17ms/step - loss: 0.0854 - val_loss: 0.0850\n",
      "Epoch 49/100\n",
      "235/235 [==============================] - 4s 17ms/step - loss: 0.0854 - val_loss: 0.0849\n",
      "Epoch 50/100\n",
      "235/235 [==============================] - 5s 19ms/step - loss: 0.0854 - val_loss: 0.0849\n",
      "Epoch 51/100\n",
      "235/235 [==============================] - 5s 19ms/step - loss: 0.0854 - val_loss: 0.0848\n",
      "Epoch 52/100\n",
      "235/235 [==============================] - 4s 18ms/step - loss: 0.0850 - val_loss: 0.0848\n",
      "Epoch 53/100\n",
      "235/235 [==============================] - 4s 18ms/step - loss: 0.0851 - val_loss: 0.0847\n",
      "Epoch 54/100\n",
      "235/235 [==============================] - 4s 19ms/step - loss: 0.0848 - val_loss: 0.0846\n",
      "Epoch 55/100\n",
      "235/235 [==============================] - 4s 18ms/step - loss: 0.0848 - val_loss: 0.0848\n",
      "Epoch 56/100\n",
      "235/235 [==============================] - 4s 18ms/step - loss: 0.0850 - val_loss: 0.0846\n",
      "Epoch 57/100\n",
      "235/235 [==============================] - 4s 18ms/step - loss: 0.0849 - val_loss: 0.0845\n",
      "Epoch 58/100\n",
      "235/235 [==============================] - 5s 20ms/step - loss: 0.0847 - val_loss: 0.0845\n",
      "Epoch 59/100\n",
      "235/235 [==============================] - 4s 17ms/step - loss: 0.0847 - val_loss: 0.0845\n",
      "Epoch 60/100\n",
      "235/235 [==============================] - 4s 18ms/step - loss: 0.0845 - val_loss: 0.0844\n",
      "Epoch 61/100\n",
      "235/235 [==============================] - 4s 18ms/step - loss: 0.0845 - val_loss: 0.0843\n",
      "Epoch 62/100\n",
      "235/235 [==============================] - 4s 18ms/step - loss: 0.0843 - val_loss: 0.0840\n",
      "Epoch 63/100\n",
      "235/235 [==============================] - 4s 17ms/step - loss: 0.0843 - val_loss: 0.0840\n",
      "Epoch 64/100\n",
      "235/235 [==============================] - 4s 17ms/step - loss: 0.0844 - val_loss: 0.0840\n",
      "Epoch 65/100\n",
      "235/235 [==============================] - 4s 17ms/step - loss: 0.0842 - val_loss: 0.0840\n",
      "Epoch 66/100\n",
      "235/235 [==============================] - 4s 18ms/step - loss: 0.0841 - val_loss: 0.0841\n",
      "Epoch 67/100\n",
      "235/235 [==============================] - 5s 22ms/step - loss: 0.0841 - val_loss: 0.0840\n",
      "Epoch 68/100\n",
      "235/235 [==============================] - 5s 20ms/step - loss: 0.0841 - val_loss: 0.0838\n",
      "Epoch 69/100\n",
      "235/235 [==============================] - 5s 20ms/step - loss: 0.0839 - val_loss: 0.0838\n",
      "Epoch 70/100\n",
      "235/235 [==============================] - 5s 20ms/step - loss: 0.0842 - val_loss: 0.0838\n",
      "Epoch 71/100\n",
      "235/235 [==============================] - 5s 20ms/step - loss: 0.0839 - val_loss: 0.0842\n",
      "Epoch 72/100\n",
      "235/235 [==============================] - 5s 20ms/step - loss: 0.0839 - val_loss: 0.0838\n",
      "Epoch 73/100\n",
      "235/235 [==============================] - 5s 21ms/step - loss: 0.0838 - val_loss: 0.0836\n",
      "Epoch 74/100\n",
      "235/235 [==============================] - 5s 20ms/step - loss: 0.0839 - val_loss: 0.0839\n",
      "Epoch 75/100\n",
      "235/235 [==============================] - 5s 20ms/step - loss: 0.0838 - val_loss: 0.0836\n",
      "Epoch 76/100\n",
      "235/235 [==============================] - 5s 20ms/step - loss: 0.0837 - val_loss: 0.0835\n",
      "Epoch 77/100\n",
      "235/235 [==============================] - 5s 20ms/step - loss: 0.0838 - val_loss: 0.0836\n",
      "Epoch 78/100\n",
      "235/235 [==============================] - 5s 20ms/step - loss: 0.0837 - val_loss: 0.0836\n",
      "Epoch 79/100\n",
      "235/235 [==============================] - 5s 20ms/step - loss: 0.0836 - val_loss: 0.0835\n",
      "Epoch 80/100\n"
     ]
    },
    {
     "name": "stdout",
     "output_type": "stream",
     "text": [
      "235/235 [==============================] - 5s 20ms/step - loss: 0.0836 - val_loss: 0.0833\n",
      "Epoch 81/100\n",
      "235/235 [==============================] - 5s 20ms/step - loss: 0.0836 - val_loss: 0.0836\n",
      "Epoch 82/100\n",
      "235/235 [==============================] - 5s 20ms/step - loss: 0.0834 - val_loss: 0.0834\n",
      "Epoch 83/100\n",
      "235/235 [==============================] - 5s 20ms/step - loss: 0.0834 - val_loss: 0.0833\n",
      "Epoch 84/100\n",
      "235/235 [==============================] - 5s 20ms/step - loss: 0.0834 - val_loss: 0.0834\n",
      "Epoch 85/100\n",
      "235/235 [==============================] - 5s 21ms/step - loss: 0.0833 - val_loss: 0.0831\n",
      "Epoch 86/100\n",
      "235/235 [==============================] - 5s 20ms/step - loss: 0.0833 - val_loss: 0.0833\n",
      "Epoch 87/100\n",
      "235/235 [==============================] - 5s 20ms/step - loss: 0.0834 - val_loss: 0.0832\n",
      "Epoch 88/100\n",
      "235/235 [==============================] - 5s 20ms/step - loss: 0.0833 - val_loss: 0.0832\n",
      "Epoch 89/100\n",
      "235/235 [==============================] - 5s 20ms/step - loss: 0.0833 - val_loss: 0.0832\n",
      "Epoch 90/100\n",
      "235/235 [==============================] - 5s 20ms/step - loss: 0.0833 - val_loss: 0.0832\n",
      "Epoch 91/100\n",
      "235/235 [==============================] - 5s 20ms/step - loss: 0.0832 - val_loss: 0.0831\n",
      "Epoch 92/100\n",
      "235/235 [==============================] - 5s 20ms/step - loss: 0.0832 - val_loss: 0.0831\n",
      "Epoch 93/100\n",
      "235/235 [==============================] - 5s 20ms/step - loss: 0.0830 - val_loss: 0.0830\n",
      "Epoch 94/100\n",
      "235/235 [==============================] - 5s 20ms/step - loss: 0.0832 - val_loss: 0.0830\n",
      "Epoch 95/100\n",
      "235/235 [==============================] - 5s 20ms/step - loss: 0.0833 - val_loss: 0.0831\n",
      "Epoch 96/100\n",
      "235/235 [==============================] - 5s 20ms/step - loss: 0.0831 - val_loss: 0.0829\n",
      "Epoch 97/100\n",
      "235/235 [==============================] - 5s 20ms/step - loss: 0.0833 - val_loss: 0.0831\n",
      "Epoch 98/100\n",
      "235/235 [==============================] - 5s 20ms/step - loss: 0.0829 - val_loss: 0.0829\n",
      "Epoch 99/100\n",
      "235/235 [==============================] - 5s 20ms/step - loss: 0.0832 - val_loss: 0.0829\n",
      "Epoch 100/100\n",
      "235/235 [==============================] - 5s 20ms/step - loss: 0.0831 - val_loss: 0.0830\n"
     ]
    },
    {
     "data": {
      "text/plain": [
       "<tensorflow.python.keras.callbacks.History at 0x7fe7f8ed0250>"
      ]
     },
     "execution_count": 11,
     "metadata": {},
     "output_type": "execute_result"
    }
   ],
   "source": [
    "autoencoder = keras.Model(input_img, decoded)\n",
    "autoencoder.compile(optimizer='adam', loss='binary_crossentropy')\n",
    "\n",
    "autoencoder.fit(x_train, x_train,\n",
    "                epochs=100,\n",
    "                batch_size=256,\n",
    "                shuffle=True,\n",
    "                validation_data=(x_test, x_test))"
   ]
  },
  {
   "cell_type": "code",
   "execution_count": 12,
   "metadata": {},
   "outputs": [],
   "source": [
    "encoded_imgs = encoder.predict(x_test)\n",
    "decoded_imgs = decoder.predict(encoded_imgs)"
   ]
  },
  {
   "cell_type": "code",
   "execution_count": 13,
   "metadata": {},
   "outputs": [
    {
     "data": {
      "image/png": "[encoded data removed]",
      "text/plain": [
       "<Figure size 1440x288 with 20 Axes>"
      ]
     },
     "metadata": {
      "needs_background": "light"
     },
     "output_type": "display_data"
    }
   ],
   "source": [
    "# Use Matplotlib (don't ask)\n",
    "import matplotlib.pyplot as plt\n",
    "\n",
    "n = 10  # How many digits we will display\n",
    "plt.figure(figsize=(20, 4))\n",
    "for i in range(n):\n",
    "    # Display original\n",
    "    ax = plt.subplot(2, n, i + 1)\n",
    "    plt.imshow(x_test[i].reshape(28, 28))\n",
    "    plt.gray()\n",
    "    ax.get_xaxis().set_visible(False)\n",
    "    ax.get_yaxis().set_visible(False)\n",
    "\n",
    "    # Display reconstruction\n",
    "    ax = plt.subplot(2, n, i + 1 + n)\n",
    "    plt.imshow(decoded_imgs[i].reshape(28, 28))\n",
    "    plt.gray()\n",
    "    ax.get_xaxis().set_visible(False)\n",
    "    ax.get_yaxis().set_visible(False)\n",
    "plt.show()"
   ]
  },
  {
   "cell_type": "code",
   "execution_count": null,
   "metadata": {},
   "outputs": [],
   "source": []
  }
 ],
 "metadata": {
  "kernelspec": {
   "display_name": "Python 3",
   "language": "python",
   "name": "python3"
  },
  "language_info": {
   "codemirror_mode": {
    "name": "ipython",
    "version": 3
   },
   "file_extension": ".py",
   "mimetype": "text/x-python",
   "name": "python",
   "nbconvert_exporter": "python",
   "pygments_lexer": "ipython3",
   "version": "3.8.5"
  }
 },
 "nbformat": 4,
 "nbformat_minor": 4
}
